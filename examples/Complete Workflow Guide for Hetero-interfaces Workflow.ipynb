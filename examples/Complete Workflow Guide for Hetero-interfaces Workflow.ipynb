{
 "cells": [
  {
   "cell_type": "markdown",
   "metadata": {
    "heading_collapsed": true
   },
   "source": [
    "# Guide to Creating Heterostructures and Running the Workflow"
   ]
  },
  {
   "cell_type": "markdown",
   "metadata": {
    "hidden": true
   },
   "source": [
    "This notebook shows how the hetero_interfaces function operates, providing reasonable starting values for each variable. We demonstrate how to use the workflow get_heterostructure_stabilityWF in order to determine the thermodynamic stability of a 2D-substrate hetero-interfacial structure. Finally, the notebook also illustrates how to query the database for various fields.\n",
    "\n",
    "Author & Maintainer: Tara M. Boland\n",
    "\n",
    "Email: tboland1@asu.edu\n",
    "\n",
    "If you like jupyter notebooks, I recommend checking out jupyter_contrib_nbextensions (install via pip). "
   ]
  },
  {
   "cell_type": "code",
   "execution_count": 1,
   "metadata": {
    "code_folding": [
     0
    ],
    "hidden": true,
    "scrolled": false
   },
   "outputs": [],
   "source": [
    "# import libs\n",
    "import json, pickle\n",
    "import matplotlib as mpl, matplotlib.pyplot as plt, pandas as pd\n",
    "import seaborn as sns, numpy as np\n",
    "%matplotlib inline\n",
    "\n",
    "# structure manipuations libs\n",
    "from pymatgen import Structure, Composition\n",
    "from pymatgen.core.surface import Slab, SlabGenerator\n",
    "from pymatgen.analysis.structure_analyzer import SpacegroupAnalyzer\n",
    "from pymatgen.transformations.advanced_transformations import SlabTransformation\n",
    "\n",
    "# workflow libs\n",
    "from hetero2d.manipulate.heterotransmuter import hetero_interfaces\n",
    "from hetero2d.manipulate.utils import show_struct_ase"
   ]
  },
  {
   "cell_type": "code",
   "execution_count": 13,
   "metadata": {
    "code_folding": [
     0
    ],
    "hidden": true
   },
   "outputs": [],
   "source": [
    "# import example data structures\n",
    "filename = 'example_structs.pkl'\n",
    "with open(filename, 'rb') as p:\n",
    "    struct_2d, struct_3d2d, struct_bulk, struct_sub = pickle.load(p)"
   ]
  },
  {
   "cell_type": "markdown",
   "metadata": {
    "heading_collapsed": true,
    "hidden": true
   },
   "source": [
    "## If you got an error running the first cell :)"
   ]
  },
  {
   "cell_type": "markdown",
   "metadata": {
    "hidden": true
   },
   "source": [
    "Ensure you have installed the Hetero2d repository from github.\n",
    "\n",
    "If you encounter an error running the first cell block follow the steps below to try to fix common errors.\n",
    "\n",
    "1.  A missing environment kernel. You should have the *Hetero2d* environment kernel option under the *Change Kernel* tab under the *Kernel* drop down menu. If you do not have this option you need to configure conda to find the environment kernels. \n",
    "    1. Activate your Hetero2d environment in the command prompt \n",
    "    2. Copy and paste the code below to add the kernel to the conda\n",
    "        * `python -m ipykernel install --user --name=Env (Hetero2d)` \n",
    "    3. Restart jupyter notebook.\n",
    "\n",
    "2. Not adding Hetero2d to your python path. \n",
    "     1. In your .bashrc file add `export PYTHONPATH=\"$HOME/path/to/Hetero2d/:$PYTHONPATH\"` and restart this notebook."
   ]
  },
  {
   "cell_type": "markdown",
   "metadata": {
    "heading_collapsed": true,
    "hidden": true
   },
   "source": [
    "## Importing Structures from Outside Databases (Optional)"
   ]
  },
  {
   "cell_type": "markdown",
   "metadata": {
    "hidden": true
   },
   "source": [
    "This section requires you to have a copy of c2db.db (highly recommend getting this) and an API key for Materials Project. \n",
    "* https://cmr.fysik.dtu.dk/c2db/c2db.html\n",
    "* https://materialsproject.org/#search/materials"
   ]
  },
  {
   "cell_type": "code",
   "execution_count": 2,
   "metadata": {
    "hidden": true
   },
   "outputs": [
    {
     "name": "stderr",
     "output_type": "stream",
     "text": [
      "/home/tboland1/anaconda3/envs/cms/lib/python3.6/site-packages/pymatgen/__init__.py:35: UserWarning: With effect from pmg 5.0, all pymatgen settings are prefixed with a \"PMG_\". E.g., \"PMG_VASP_PSP_DIR\" instead of \"VASP_PSP_DIR\".\n",
      "  warnings.warn('With effect from pmg 5.0, all pymatgen settings are'\n"
     ]
    }
   ],
   "source": [
    "# import search libs\n",
    "from pymatgen.io.ase import AseAtomsAdaptor\n",
    "from pymatgen.ext.matproj import MPRester\n",
    "import ase.db"
   ]
  },
  {
   "cell_type": "code",
   "execution_count": 3,
   "metadata": {
    "code_folding": [],
    "hidden": true
   },
   "outputs": [],
   "source": [
    "# 2D: c2db access database (Grab 2d MoS2 from c2db)\n",
    "db = ase.db.connect('/path/to/file/c2db.db')\n",
    "# Get all MoS2 phases from C2DB\n",
    "formula = 'MoS2'\n",
    "mos2 = db.select('formula=MoS2')\n",
    "\n",
    "mos2_phases = {}\n",
    "for row in mos2:\n",
    "    proto = row['prototype']\n",
    "    ase_2d = db.get_atoms(formula=formula,prototype=proto) \n",
    "    struct_mos2 = AseAtomsAdaptor.get_structure(atoms=ase_2d)\n",
    "    mos2_phases[proto] = struct_mos2\n",
    "struct_2d = mos2_phases['MoS2']"
   ]
  },
  {
   "cell_type": "code",
   "execution_count": 3,
   "metadata": {
    "code_folding": [],
    "hidden": true,
    "scrolled": true
   },
   "outputs": [],
   "source": [
    "# search Materials Project for 3D form of 2D material (bulk MoS2)\n",
    "mpr = MPRester()\n",
    "struct_3d2d = mpr.get_structure_by_material_id('mp-1018809')"
   ]
  },
  {
   "cell_type": "code",
   "execution_count": 5,
   "metadata": {
    "code_folding": [],
    "hidden": true
   },
   "outputs": [],
   "source": [
    "# search Materials Project for substrate (bulk Zr)\n",
    "struct_bulk = mpr.get_structure_by_material_id('mp-8635')"
   ]
  },
  {
   "cell_type": "markdown",
   "metadata": {
    "heading_collapsed": true
   },
   "source": [
    "# Creating hetero-interface structures"
   ]
  },
  {
   "cell_type": "code",
   "execution_count": 7,
   "metadata": {
    "code_folding": [],
    "hidden": true
   },
   "outputs": [],
   "source": [
    "# heterointerfaces module input values\n",
    "max_area, max_mismatch = 80, 0.05\n",
    "max_angle_diff, separation = 1, 3\n",
    "r1r2_tol, nlayers_2d = 0.01, 3\n",
    "nlayers_sub = 1"
   ]
  },
  {
   "cell_type": "code",
   "execution_count": 8,
   "metadata": {
    "code_folding": [],
    "hidden": true
   },
   "outputs": [],
   "source": [
    "# slab generation params\n",
    "lll_reduce, max_normal_search, center_slab, primitive = True, True, True, True\n",
    "in_unit_planes = False\n",
    "min_vacuum_size, min_slab_size, shift, tol = 18, 12, 0, 0.1"
   ]
  },
  {
   "cell_type": "code",
   "execution_count": 11,
   "metadata": {
    "code_folding": [],
    "hidden": true,
    "scrolled": true
   },
   "outputs": [],
   "source": [
    "# Create 111 substrate surfaces\n",
    "miller_index = [1,1,1]\n",
    "struct = SpacegroupAnalyzer(struct_bulk).get_conventional_standard_structure()\n",
    "st = SlabTransformation(miller_index, min_slab_size, min_vacuum_size, lll_reduce, \n",
    "            center_slab, in_unit_planes, primitive, max_normal_search, shift, tol)\n",
    "struct_slab = st.apply_transformation(struct)"
   ]
  },
  {
   "cell_type": "code",
   "execution_count": 14,
   "metadata": {
    "code_folding": [],
    "hidden": true,
    "scrolled": false
   },
   "outputs": [
    {
     "name": "stdout",
     "output_type": "stream",
     "text": [
      "rmax1, rmax2: 9, 9\n",
      "\n",
      "\n",
      "MATCH FOUND\n",
      "\n",
      "u,v & angle mismatches:\n",
      "-0.0008767653502491646, -0.0008769404292973126, 4.932076819841313e-06\n",
      "\n"
     ]
    }
   ],
   "source": [
    "# create heterointerface structs & store structs in iface_out\n",
    "iface_out = hetero_interfaces(struct_2d, struct_sub, max_mismatch, max_area, nlayers_2d, nlayers_sub, \n",
    "            r1r2_tol, max_angle_diff, separation)"
   ]
  },
  {
   "cell_type": "code",
   "execution_count": 10,
   "metadata": {
    "hidden": true
   },
   "outputs": [
    {
     "name": "stdout",
     "output_type": "stream",
     "text": [
      "{'opt_uv1': [array([3.19595400e+00, 0.00000000e+00, 1.95695742e-16]), array([ 0.00000000e+00, -5.53555600e+00, -5.87087294e-16])], 'opt_uv2': [array([3.18406646e+00, 0.00000000e+00, 1.94967840e-16]), array([ 1.77635684e-15, -5.51496489e+00, -5.84903521e-16])], 'u': -0.0037195577018340753, 'v': -0.003719790476344631, 'angle': 1.4210854715202004e-14, 'tm1': array([[1, 0],\n",
      "       [1, 2]]), 'tm2': array([[ 1,  0],\n",
      "       [-1, -2]]), 'fu_2d': 2.0, 'fu_sub': 2.0}\n"
     ]
    }
   ],
   "source": [
    "alignment_params = iface_out.pop(-1)\n",
    "print(alignment_params)"
   ]
  },
  {
   "cell_type": "code",
   "execution_count": 15,
   "metadata": {
    "hidden": true
   },
   "outputs": [],
   "source": [
    "# this line is likely not to work if you are running the notebook\n",
    "# on a remote server\n",
    "show_struct_ase(iface_out[0])"
   ]
  },
  {
   "cell_type": "markdown",
   "metadata": {
    "heading_collapsed": true
   },
   "source": [
    "# Running Heterostructure Workflow"
   ]
  },
  {
   "cell_type": "code",
   "execution_count": 16,
   "metadata": {
    "code_folding": [],
    "hidden": true
   },
   "outputs": [],
   "source": [
    "# required variables and python libraries\n",
    "from hetero2d.workflow import get_heterostructures_stabilityWF\n",
    "from hetero2d.io.VaspInterfaceSet import CMDLInterfaceSet\n",
    "from fireworks import LaunchPad"
   ]
  },
  {
   "cell_type": "markdown",
   "metadata": {
    "hidden": true
   },
   "source": [
    "### Set up Mongo Database Information "
   ]
  },
  {
   "cell_type": "code",
   "execution_count": null,
   "metadata": {
    "hidden": true
   },
   "outputs": [],
   "source": [
    "host = 'mongo_db_ip_address'\n",
    "port = # port number for database\n",
    "authsource = 'authentication database'\n",
    "name = 'database_name'\n",
    "username = 'your_username'\n",
    "password = 'database_password'"
   ]
  },
  {
   "cell_type": "markdown",
   "metadata": {
    "hidden": true
   },
   "source": [
    "## Setting up get_heterostructure_stabilityWF\n",
    "This example shows how to set up the WF when the 2d, 3d2d, bulk, and substrate slab have not previously been relaxed."
   ]
  },
  {
   "cell_type": "markdown",
   "metadata": {
    "hidden": true
   },
   "source": [
    "The user must always provide the workflow with the path the vasp executable.\n",
    "\n",
    "The parameter *bin_2d* allows the user to supply the path to an executable for VASP compiled to prevent the 2D material's vacuum spacing from shrinking. "
   ]
  },
  {
   "cell_type": "code",
   "execution_count": 10,
   "metadata": {
    "code_folding": [],
    "hidden": true
   },
   "outputs": [],
   "source": [
    "# set the path to the 2D and 3D vasp version\n",
    "bin_2d = 'srun --mpi=pmi2 /path/to/remote/vasp_std_2D' \n",
    "bin_3d = 'srun --mpi=pmi2 /path/to/remote/vasp_std_3D' "
   ]
  },
  {
   "cell_type": "markdown",
   "metadata": {
    "hidden": true
   },
   "source": [
    "Should the user want to override one of the default VASP parameters in the *CMDLInterfaceSet* for every firework in the workflow you can add it to the *uis*.  \n",
    "\n",
    "If you want to change a VASP parameter for an individual firework in the workflow you can use:\n",
    "* uis_2d : custom INCAR settings for 2D firework\n",
    "* uis_3d2d : custom INCAR settings for 3D2D firework\n",
    "* uis_bulk : custom INCAR settings for bulk firework\n",
    "* uis_trans : custom INCAR settings for substrate surface firework\n",
    "* uis_iface : custom INCAR settings for heterointerface fireworks"
   ]
  },
  {
   "cell_type": "code",
   "execution_count": 11,
   "metadata": {
    "code_folding": [],
    "hidden": true
   },
   "outputs": [],
   "source": [
    "uis = dict(EDIFF  = 0.0001, EDIFFG = -0.05, IBRION = 2,\n",
    "    POTIM = 0.15, ISPIN = 1, NSW = 500, NELMDL = -6)"
   ]
  },
  {
   "cell_type": "markdown",
   "metadata": {
    "hidden": true
   },
   "source": [
    "The parameter *slab_params* is used to create the substrate surface slab within the Firework from a bulk structure. The input parameters are the same as the pymatgen *SlabTransformation* input parameters."
   ]
  },
  {
   "cell_type": "code",
   "execution_count": 12,
   "metadata": {
    "code_folding": [],
    "hidden": true
   },
   "outputs": [],
   "source": [
    "slab_params = {'transformations': ['SlabTransformation'],\n",
    "    'transformation_params': [{'miller_index': [1,1,1], \n",
    "        'lll_reduce': True, 'max_normal_search': True, \n",
    "        'min_vacuum_size': 18, 'primitive': False, \n",
    "        'min_slab_size': 12, 'center_slab': True}]}"
   ]
  },
  {
   "cell_type": "markdown",
   "metadata": {
    "hidden": true
   },
   "source": [
    "The parameter *heterotransformation_params* is used to create the hetero-interface structures subject to the constraints listed below."
   ]
  },
  {
   "cell_type": "code",
   "execution_count": 13,
   "metadata": {
    "code_folding": [],
    "hidden": true
   },
   "outputs": [],
   "source": [
    "heterotransformation_params=[{'max_mismatch': 0.05, \n",
    "    'max_area': 100, 'max_angle_diff': 1, 'r1r2_tol': 0.1, \n",
    "    'nlayers_2d': 3, 'nlayers_sub': 2, 'separation': 3}]"
   ]
  },
  {
   "cell_type": "markdown",
   "metadata": {
    "hidden": true
   },
   "source": [
    "The parameter *user_additions* is used to configure the spec file for all the fireworks in the workflow. The minimum required parameters to supply is listed below. \n",
    "\n",
    "The *unique_id* is appended to each firework to track fireworks in the workflow in the database.\n",
    "\n",
    "*analysis_info* is used to supply energetic information to fireworks in the workflow to determine the stability of the hetero-structure.\n",
    "\n",
    "*orient* is the miller index of the substrate surface."
   ]
  },
  {
   "cell_type": "code",
   "execution_count": 14,
   "metadata": {
    "code_folding": [],
    "hidden": true
   },
   "outputs": [],
   "source": [
    "user_additions = {'unique_id': 1, 'analysis_info': [{}],\n",
    "    'orient': [1,1,1]}"
   ]
  },
  {
   "cell_type": "code",
   "execution_count": 15,
   "metadata": {
    "code_folding": [],
    "hidden": true,
    "scrolled": true
   },
   "outputs": [
    {
     "name": "stdout",
     "output_type": "stream",
     "text": [
      "Workflow Name: MoS2-on-Zr: hkl-[111]: 1\n",
      "{-1: [-2], -2: [-5], -3: [-5, -4], -4: [-5], -5: []}\n"
     ]
    }
   ],
   "source": [
    "wf = get_heterostructures_stabilityWF(struct_2d, struct_bulk, \n",
    "    struct_3d2d, heterotransformation_params, slab_params, \n",
    "    user_additions, bin_2d=bin_2d, bin_3d=bin_3d, uis=uis)"
   ]
  },
  {
   "cell_type": "code",
   "execution_count": 12,
   "metadata": {
    "code_folding": [],
    "hidden": true
   },
   "outputs": [],
   "source": [
    "# send the wf to the launch pad\n",
    "lp = LaunchPad(host=host, port=port, name=name,\n",
    "               username=username, password=password)"
   ]
  },
  {
   "cell_type": "code",
   "execution_count": 13,
   "metadata": {
    "hidden": true
   },
   "outputs": [
    {
     "name": "stdout",
     "output_type": "stream",
     "text": [
      "2021-09-02 19:32:50,234 INFO Added a workflow. id_map: {-5: 25, -4: 26, -3: 27, -2: 28, -1: 29}\n"
     ]
    },
    {
     "data": {
      "text/plain": [
       "{-5: 25, -4: 26, -3: 27, -2: 28, -1: 29}"
      ]
     },
     "execution_count": 13,
     "metadata": {},
     "output_type": "execute_result"
    }
   ],
   "source": [
    "lp.add_wf(wf)"
   ]
  },
  {
   "cell_type": "markdown",
   "metadata": {
    "hidden": true
   },
   "source": [
    "Be sure to read the FireWorks and atomate documentation to learn how to run workflows. \n",
    "\n",
    "Some critical features of this workflow only work when jobs are launched using `qlaunch -r rapidfire -m #`. The -m places a limit on the total number of jobs in the queue while -r launches in reservation mode. "
   ]
  },
  {
   "cell_type": "markdown",
   "metadata": {
    "hidden": true
   },
   "source": [
    "## Setting up get_heterostructure_stabilityWF\n",
    "This example shows how to set up the WF when the 2d, 3d2d, and bulk structures have previously been relaxed and the substrate slab has not previously been relaxed."
   ]
  },
  {
   "cell_type": "code",
   "execution_count": 16,
   "metadata": {
    "code_folding": [
     0,
     4,
     7,
     9,
     14
    ],
    "hidden": true
   },
   "outputs": [],
   "source": [
    "# previously introduced parameters\n",
    "bin_2d = 'srun --mpi=pmi2 /path/to/remote/vasp_std_2D' \n",
    "bin_3d = 'srun --mpi=pmi2 /path/to/remote/vasp_std_3D' \n",
    "\n",
    "struct_bulk = SpacegroupAnalyzer(struct_bulk\n",
    "                ).get_conventional_standard_structure()\n",
    "\n",
    "uis = dict(EDIFF  = 0.0001, EDIFFG = -0.05, IBRION = 2,\n",
    "    POTIM = 0.15, ISPIN = 1, NSW = 500, NELMDL = -6)\n",
    "slab_params = {'transformations': ['SlabTransformation'],\n",
    "    'transformation_params': [{'miller_index': [1,1,1], \n",
    "        'lll_reduce': True, 'max_normal_search': True, \n",
    "        'min_vacuum_size': 18, 'primitive': False, \n",
    "        'min_slab_size': 12, 'center_slab': True}]}\n",
    "heterotransformation_params=[{'max_mismatch': 0.05, \n",
    "    'max_area': 100, 'max_angle_diff': 1, 'r1r2_tol': 0.1, \n",
    "    'nlayers_2d': 3, 'nlayers_sub': 2, 'separation': 3}]"
   ]
  },
  {
   "cell_type": "markdown",
   "metadata": {
    "hidden": true
   },
   "source": [
    "If you have a previously relaxed 2d, 3d2d, and bulk structure you can skip re-optimization of these structures by providing the energies to perform energetic analysis and setting the flags *is_i_optimized* for each firework to True in the *user_additions*."
   ]
  },
  {
   "cell_type": "code",
   "execution_count": 17,
   "metadata": {
    "code_folding": [],
    "hidden": true
   },
   "outputs": [],
   "source": [
    "analysis_info=[{'E_2d':   -19.61627018, 'N_2d':   3, \n",
    "                'E_3d2d': -39.66681368, 'N_3d2d': 6}]"
   ]
  },
  {
   "cell_type": "code",
   "execution_count": 18,
   "metadata": {
    "code_folding": [],
    "hidden": true
   },
   "outputs": [],
   "source": [
    "user_additions = {'unique_id': 1, 'analysis_info': analysis_info,\n",
    "    'orient': [1,1,1], 'is_2d_optimized': True, \n",
    "    'is_3d2d_optimized': True, 'is_bulk_optimized': True}"
   ]
  },
  {
   "cell_type": "code",
   "execution_count": 19,
   "metadata": {
    "code_folding": [
     0
    ],
    "hidden": true,
    "scrolled": true
   },
   "outputs": [
    {
     "name": "stdout",
     "output_type": "stream",
     "text": [
      "Workflow Name: MoS2-on-Sr: hkl-[111]: 1\n",
      "{-6: [-7], -7: []}\n"
     ]
    }
   ],
   "source": [
    "wf = get_heterostructures_stabilityWF(struct_2d, struct_bulk, \n",
    "    struct_3d2d, heterotransformation_params, slab_params, \n",
    "    user_additions, bin_2d=bin_2d, bin_3d=bin_3d, uis=uis)"
   ]
  },
  {
   "cell_type": "code",
   "execution_count": null,
   "metadata": {
    "hidden": true
   },
   "outputs": [],
   "source": [
    "# send the wf to the launch pad\n",
    "lp = LaunchPad(host=host, port=port, name=name,\n",
    "               username=username, password=password)"
   ]
  },
  {
   "cell_type": "code",
   "execution_count": null,
   "metadata": {
    "hidden": true
   },
   "outputs": [],
   "source": [
    "lp.add_wf(wf)"
   ]
  },
  {
   "cell_type": "markdown",
   "metadata": {
    "heading_collapsed": true,
    "hidden": true
   },
   "source": [
    "## Parameters Influencing the Workflow Executation\n",
    "Below is a list of the input parameters you can provide to the workflow to:\n",
    "* add additional data to each firework\n",
    "* skip certain fireworks to relax and store data\n",
    "* change default behavior of respective fireworks"
   ]
  },
  {
   "cell_type": "markdown",
   "metadata": {
    "heading_collapsed": true,
    "hidden": true
   },
   "source": [
    "### get_heterostructure_stabilityWF"
   ]
  },
  {
   "cell_type": "markdown",
   "metadata": {
    "hidden": true
   },
   "source": [
    "By default dipole corrections are turned on and should be left on unless you are sure you they are causing issues.\n",
    "\n",
    "* dipole = True (Default) To turn off, set to False"
   ]
  },
  {
   "cell_type": "markdown",
   "metadata": {
    "hidden": true
   },
   "source": [
    "If you wish to provide your own VASP Input Set to the workflow you can use the following variables:\n",
    "* vis_2d : custom Input Set settings for 2D firework\n",
    "* vis_3d2d : custom Input Set settings for 3D2D firework\n",
    "* vis_bulk : custom Input Set settings for Bulk firework\n",
    "* vis_trans : custom Input Set settings for Substrate firework\n",
    "* vis_iface : custom Input Set settings for 2dOnSubstrate firework"
   ]
  },
  {
   "cell_type": "markdown",
   "metadata": {
    "heading_collapsed": true,
    "hidden": true
   },
   "source": [
    "### *user_additions*"
   ]
  },
  {
   "cell_type": "markdown",
   "metadata": {
    "hidden": true
   },
   "source": [
    "The following dictionary keys when specified in the *user_additions* dictionary allow the user to skip:\n",
    "\n",
    "1) the fireworks to optimize the 2d, 3d2d, bulk, or substrate fireworks\n",
    "\n",
    "or \n",
    "\n",
    "2) to skip analysis for Formation_Energy, Binding_Energy, and Adsorption_Energy"
   ]
  },
  {
   "cell_type": "markdown",
   "metadata": {
    "hidden": true
   },
   "source": [
    "Relaxation tags:\n",
    "* is_2d_optimized: True - to perform the 2d optimization; False skip optimization\n",
    "* is_sub_optimized: True - to perform the sub optimization; False skip optimization \n",
    "* is_3d2d_optimized: True - to perform the 3d2d optimization; False skip optimization\n",
    "* is_bulk_optimized: True - to perform the Bulk optimization; False skip optimization\n",
    "\n",
    "Analysis:\n",
    "* Binding_Energy: True - to perform analysis of binding energy\n",
    "* Formation_Energy: True - to perform analysis of formation energy\n",
    "* Adsorption_Energy: True - to perform analysis of adsorption energy\n",
    "\n",
    "Calculation & computing parameters:\n",
    "* vdw: 'optB88' - set the type of functional to be used in the calculations\n",
    "* _preserve_fworker: True - ensure that once a calculation starts on one computing resource that all other jobs will run on the same computing resource.\n",
    "* duplicate: True - perform duplicate checking for duplicated workflows (very restrictive matching)\n",
    "\n",
    "Hetero-interface computing resource parameters:\n",
    "* wall_time_hetero: \"hr:mm:ss\" - the wall time to set for the hetero-interface calculation \n",
    "* iface_nodes: 1 (default) - set the number of nodes to use in relaxing the hetero-structures\n",
    "* ntasks: # (no default) - set the number of cpu cores to use in relaxing the hetero-structures\n",
    "* any valid key to be used in _queueadapter settings is valid for the hetero-interface \n",
    "\n",
    "Substrate Slab Computing Resource Parameters:\n",
    "* sub_nodes: 1 (default) - set the number of nodes to use in relaxing the substrate slab"
   ]
  },
  {
   "cell_type": "code",
   "execution_count": null,
   "metadata": {
    "code_folding": [],
    "hidden": true
   },
   "outputs": [],
   "source": [
    "# example user additions dictionary\n",
    "user_additions = {'unique_id': 1, 'duplicate': True,\n",
    "    'vdw': 'optB88', 'is_bulk_optimized': False,\n",
    "    'is_sub_optimized': False, 'is_2d_optimized': False, \n",
    "    'is_3d2d_optimized': False, 'orient': [1,1,1], 'ntasks': 16,\n",
    "    'max_nodes': 2, 'wall_time_hetero': '72:00:00', 'kpar_iface': 1, \n",
    "    'sub_nodes': 1, 'analysis_info': analysis_info,\n",
    "    'Formation_Energy': True, 'Binding_Energy': True,\n",
    "    'Adsorption_Energy': True}"
   ]
  },
  {
   "cell_type": "markdown",
   "metadata": {
    "heading_collapsed": true,
    "hidden": true
   },
   "source": [
    "### *analysis_info* (provided to *user_additions*)"
   ]
  },
  {
   "cell_type": "markdown",
   "metadata": {
    "hidden": true
   },
   "source": [
    "The parameter *analysis_info* is used to pass energetic information to other fireworks in the workflow to calculate the formation energy, binding energy, and adsorption formation energy. \n",
    "\n",
    "You can also use *analysis_info* to pass energetic information to fireworks that have been obtained in different workflows so you can avoid re-relaxing structures that have previously been relaxed. \n",
    "\n",
    "And example of all the input accepted for *analysis_info* is provided below:"
   ]
  },
  {
   "cell_type": "code",
   "execution_count": null,
   "metadata": {
    "hidden": true
   },
   "outputs": [],
   "source": [
    "analysis_info=[{'E_2d':   -19.61627018, 'N_2d':3, \n",
    "    'E_3d2d': -39.66681368, 'N_3d2d': 6,\n",
    "    'E_sub':   -0.70071947, 'N_sub':  6}]"
   ]
  },
  {
   "cell_type": "markdown",
   "metadata": {
    "heading_collapsed": true,
    "hidden": true
   },
   "source": [
    "### *tags*"
   ]
  },
  {
   "cell_type": "markdown",
   "metadata": {
    "hidden": true
   },
   "source": [
    "The *tags* parameter can be used to append information to each firework in the workflow.   "
   ]
  },
  {
   "cell_type": "code",
   "execution_count": null,
   "metadata": {
    "code_folding": [],
    "hidden": true
   },
   "outputs": [],
   "source": [
    "# add any additional information to each firework in the workflow\n",
    "td_tags, tdtd_tags, bulk_tags, trans_tags, iface_tags = {},{},{},{},{}\n",
    "general = {'prototype': 'AB2'}\n",
    "tags = {'2d': td_tags, '3d2d': tdtd_tags, 'bulk': bulk_tags, \n",
    "    'trans': trans_tags, 'iface': iface_tags, 'general': general}"
   ]
  },
  {
   "cell_type": "markdown",
   "metadata": {
    "heading_collapsed": true
   },
   "source": [
    "# Analysis: Query the MongoDB"
   ]
  },
  {
   "cell_type": "markdown",
   "metadata": {
    "hidden": true
   },
   "source": [
    "In general it is easier to search the database for a specific phase of a structure in the database by the unique id rather than the spacegroup or formula. The uid is entirely unique for each 2d-substrate combination."
   ]
  },
  {
   "cell_type": "code",
   "execution_count": 2,
   "metadata": {
    "code_folding": [
     0
    ],
    "hidden": true
   },
   "outputs": [],
   "source": [
    "# import data from Hetero2d Workflow \n",
    "with open('2d_substrate_heterostructures.json','r') as f:\n",
    "    data = json.load(f)"
   ]
  },
  {
   "cell_type": "code",
   "execution_count": 3,
   "metadata": {
    "code_folding": [
     0
    ],
    "hidden": true,
    "scrolled": false
   },
   "outputs": [],
   "source": [
    "# set up pandas dataframe\n",
    "ads_energy = pd.DataFrame(columns=['name', 'uid', 'surf', 'z_sep', 'e_bind', 'e_ads', 'td_width_diff', 'film', 'sub', 'config'])\n",
    "\n",
    "for objectID, fw in data.items():\n",
    "    film, conf = fw['film_composition'], fw['Interface Config']\n",
    "    iface, surf = fw['iface_idx'], fw['surface_plane']\n",
    "    final = Structure.from_dict(fw['final_structure'])\n",
    "    init = Structure.from_dict(fw['initial_structure'])\n",
    "    e_ads = fw['Adsorption_Energy']['E_ads']\n",
    "    e_bind = fw['Binding_Energy']['E_bind']\n",
    "    uid, sgn = fw['unique_id'], fw[\"film_spacegroup\"][\"number\"]\n",
    "    name = film+'-'+fw['substrate_composition']+'-'+str(uid)\n",
    "\n",
    "    if sgn == 187 and film == 'NbO2':\n",
    "        film = film+'-2H'\n",
    "    elif sgn == 164 and film == 'NbO2':\n",
    "        film = film+'-1T'\n",
    "\n",
    "    # define layers for top and bottom\n",
    "    idx_subs = iface['sub_layer_1']\n",
    "    idx_tD_top, idx_tD = iface['2d_layer_1'], iface['2d_layer_'+str(iface['num_2d_layer'])]\n",
    "\n",
    "    # get the 2d sub separation dist (bot & top atoms) \n",
    "    all_coords_i, all_coords_f = init.cart_coords, final.cart_coords\n",
    "\n",
    "    # initial 2d film thickness\n",
    "    td_z_avg_i = np.average([all_coords_i[i][2] for i in idx_tD])\n",
    "    td_top_z_avg_i = np.average([all_coords_i[i][2] for i in idx_tD_top])\n",
    "    td_diff_i = abs(td_z_avg_i-td_top_z_avg_i)\n",
    "    \n",
    "    # z separation & final 2d film thickness \n",
    "    td_z_avg_f = np.average([all_coords_f[i][2] for i in idx_tD])\n",
    "    sub_z_avg_f = np.average([all_coords_f[i][2] for i in idx_subs])\n",
    "    td_top_z_avg_f = np.average([all_coords_f[i][2] for i in idx_tD_top])\n",
    "    zsep_f = abs(sub_z_avg_f-td_z_avg_f)\n",
    "    td_diff_f = abs(td_z_avg_f-td_top_z_avg_f)       \n",
    "\n",
    "    data_ads = {'name': name, 'film': film, 'uid': uid, \n",
    "        'surf': surf, 'config': conf, 'e_bind': e_bind, 'e_ads': e_ads,\n",
    "        'z_sep': zsep_f, 'td_width_diff': td_diff_f-td_diff_i}\n",
    "    pdd = pd.DataFrame(data=[data_ads])\n",
    "    ads_energy = ads_energy.append(pdd, ignore_index=True) "
   ]
  },
  {
   "cell_type": "markdown",
   "metadata": {
    "hidden": true
   },
   "source": [
    "## Adsorption Formation Energy Plot"
   ]
  },
  {
   "cell_type": "code",
   "execution_count": 4,
   "metadata": {
    "code_folding": [
     0
    ],
    "hidden": true,
    "scrolled": false
   },
   "outputs": [
    {
     "data": {
      "image/png": "[encoded data removed]",
      "text/plain": [
       "<Figure size 842.4x595.44 with 1 Axes>"
      ]
     },
     "metadata": {},
     "output_type": "display_data"
    }
   ],
   "source": [
    "# adsorption formation energy: 111\n",
    "sns.set(style=\"whitegrid\", rc={'figure.figsize':(11.7,8.27)})\n",
    "ads_111 = ads_energy[ads_energy.surf == '111']\n",
    "ads = ads_111.sort_values(by=['film','e_ads'])\n",
    "ax = sns.scatterplot(x=\"name\", y=\"e_ads\", data=ads, hue='film', \n",
    "                     style='config', s=200, markers=['^','o','X','s'], alpha=0.5, \n",
    "                     palette=['orange','red','green','blue'])\n",
    "ax.set(ylim=(round(min(ads.e_ads),2)-0.05,round(max(ads.e_ads),2)+0.05))\n",
    "plt.xticks(rotation=90)\n",
    "fig = ax.get_figure()"
   ]
  },
  {
   "cell_type": "code",
   "execution_count": 5,
   "metadata": {
    "code_folding": [
     0
    ],
    "hidden": true
   },
   "outputs": [
    {
     "data": {
      "image/png": "[encoded data removed]",
      "text/plain": [
       "<Figure size 842.4x595.44 with 1 Axes>"
      ]
     },
     "metadata": {},
     "output_type": "display_data"
    }
   ],
   "source": [
    "# adsorption formation energy: 011\n",
    "ads_011 = ads_energy[ads_energy.surf == '011']\n",
    "ads = ads_011.sort_values(by=['film','e_ads'])\n",
    "ax = sns.scatterplot(x=\"name\", y=\"e_ads\", data=ads, hue='film', \n",
    "                     style='config', s=200, markers=['^','o','X','s'], alpha=0.5, \n",
    "                     palette=['orange','red','green'])\n",
    "ax.set(ylim=(round(min(ads.e_ads),2)-0.05,round(max(ads.e_ads),2)+0.05))\n",
    "plt.xticks(rotation=90)\n",
    "fig = ax.get_figure()"
   ]
  }
 ],
 "metadata": {
  "kernelspec": {
   "display_name": "Environment (conda_cms)",
   "language": "python",
   "name": "conda_cms"
  },
  "language_info": {
   "codemirror_mode": {
    "name": "ipython",
    "version": 3
   },
   "file_extension": ".py",
   "mimetype": "text/x-python",
   "name": "python",
   "nbconvert_exporter": "python",
   "pygments_lexer": "ipython3",
   "version": "3.6.12"
  },
  "latex_envs": {
   "LaTeX_envs_menu_present": true,
   "autoclose": true,
   "autocomplete": true,
   "bibliofile": "biblio.bib",
   "cite_by": "apalike",
   "current_citInitial": 1,
   "eqLabelWithNumbers": true,
   "eqNumInitial": 1,
   "hotkeys": {
    "equation": "Ctrl-E",
    "itemize": "Ctrl-I"
   },
   "labels_anchors": false,
   "latex_user_defs": false,
   "report_style_numbering": false,
   "user_envs_cfg": false
  },
  "toc": {
   "base_numbering": 1,
   "nav_menu": {},
   "number_sections": true,
   "sideBar": true,
   "skip_h1_title": false,
   "title_cell": "Table of Contents",
   "title_sidebar": "Contents",
   "toc_cell": false,
   "toc_position": {},
   "toc_section_display": true,
   "toc_window_display": false
  },
  "varInspector": {
   "cols": {
    "lenName": 16,
    "lenType": 16,
    "lenVar": 40
   },
   "kernels_config": {
    "python": {
     "delete_cmd_postfix": "",
     "delete_cmd_prefix": "del ",
     "library": "var_list.py",
     "varRefreshCmd": "print(var_dic_list())"
    },
    "r": {
     "delete_cmd_postfix": ") ",
     "delete_cmd_prefix": "rm(",
     "library": "var_list.r",
     "varRefreshCmd": "cat(var_dic_list()) "
    }
   },
   "types_to_exclude": [
    "module",
    "function",
    "builtin_function_or_method",
    "instance",
    "_Feature"
   ],
   "window_display": false
  }
 },
 "nbformat": 4,
 "nbformat_minor": 2
}
